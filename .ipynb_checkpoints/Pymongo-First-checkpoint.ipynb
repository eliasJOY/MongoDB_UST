{
 "cells": [
  {
   "cell_type": "code",
   "execution_count": 1,
   "id": "1cb02151-e481-431c-9325-faf4d76792a5",
   "metadata": {},
   "outputs": [
    {
     "name": "stdout",
     "output_type": "stream",
     "text": [
      "Collecting pymongo\n",
      "  Downloading pymongo-4.8.0-cp312-cp312-win_amd64.whl.metadata (22 kB)\n",
      "Collecting dnspython<3.0.0,>=1.16.0 (from pymongo)\n",
      "  Downloading dnspython-2.6.1-py3-none-any.whl.metadata (5.8 kB)\n",
      "Downloading pymongo-4.8.0-cp312-cp312-win_amd64.whl (680 kB)\n",
      "   ---------------------------------------- 0.0/680.4 kB ? eta -:--:--\n",
      "   --- ------------------------------------ 61.4/680.4 kB 1.7 MB/s eta 0:00:01\n",
      "   ---------------------------- ----------- 491.5/680.4 kB 6.2 MB/s eta 0:00:01\n",
      "   ---------------------------------------- 680.4/680.4 kB 5.4 MB/s eta 0:00:00\n",
      "Downloading dnspython-2.6.1-py3-none-any.whl (307 kB)\n",
      "   ---------------------------------------- 0.0/307.7 kB ? eta -:--:--\n",
      "   ---------------------------------------- 307.7/307.7 kB 9.6 MB/s eta 0:00:00\n",
      "Installing collected packages: dnspython, pymongo\n",
      "Successfully installed dnspython-2.6.1 pymongo-4.8.0\n"
     ]
    }
   ],
   "source": [
    "!pip install pymongo\n"
   ]
  },
  {
   "cell_type": "code",
   "execution_count": 2,
   "id": "7b3f92da-5d7a-4fec-8294-0cdae49ff18a",
   "metadata": {},
   "outputs": [],
   "source": [
    "import pymongo\n"
   ]
  },
  {
   "cell_type": "markdown",
   "id": "bd935df8-dc7f-47e6-ab1f-8aa39e16ef17",
   "metadata": {},
   "source": [
    "#### 1. Connect to Mongo Nosql database"
   ]
  },
  {
   "cell_type": "code",
   "execution_count": 6,
   "id": "9148467a-c282-4baf-a43c-59ce5dc6e3d1",
   "metadata": {},
   "outputs": [],
   "source": [
    "client = pymongo.MongoClient(\"localhost:27017\")"
   ]
  },
  {
   "cell_type": "code",
   "execution_count": 7,
   "id": "84e6faa2-072f-45e0-b839-0ee3401c8174",
   "metadata": {},
   "outputs": [],
   "source": [
    "db = client['pymongo_db']\n",
    "collection = db['testCollection']"
   ]
  },
  {
   "cell_type": "code",
   "execution_count": 8,
   "id": "e8ac8c4a-3a9d-4f56-bc70-d042b03d1a36",
   "metadata": {},
   "outputs": [],
   "source": [
    "# Sample data to insert\n",
    "data = [\n",
    "    {\n",
    "        \"product_id\": \"P001\",\n",
    "        \"name\": \"Wireless Mouse\",\n",
    "        \"category\": \"Electronics\",\n",
    "        \"price\": 25.99,\n",
    "        \"stock\": 150,\n",
    "        \"reviews\": [\n",
    "            {\"user\": \"Alice\", \"rating\": 5, \"comment\": \"Excellent mouse!\"},\n",
    "            {\"user\": \"Bob\", \"rating\": 4, \"comment\": \"Very good, but a bit pricey.\"}\n",
    "        ],\n",
    "        \"tags\": [\"wireless\", \"mouse\", \"electronics\"]\n",
    "    },\n",
    "    {\n",
    "        \"product_id\": \"P002\",\n",
    "        \"name\": \"Gaming Keyboard\",\n",
    "        \"category\": \"Electronics\",\n",
    "        \"price\": 79.99,\n",
    "        \"stock\": 50,\n",
    "        \"reviews\": [\n",
    "            {\"user\": \"Charlie\", \"rating\": 5, \"comment\": \"Amazing keyboard for gaming!\"},\n",
    "            {\"user\": \"Dave\", \"rating\": 3, \"comment\": \"Good, but could be more comfortable.\"}\n",
    "        ],\n",
    "        \"tags\": [\"gaming\", \"keyboard\", \"electronics\"]\n",
    "    },\n",
    "    {\n",
    "        \"product_id\": \"P003\",\n",
    "        \"name\": \"Office Chair\",\n",
    "        \"category\": \"Furniture\",\n",
    "        \"price\": 120.00,\n",
    "        \"stock\": 20,\n",
    "        \"reviews\": [\n",
    "            {\"user\": \"Eva\", \"rating\": 4, \"comment\": \"Comfortable chair for long hours.\"},\n",
    "            {\"user\": \"Frank\", \"rating\": 4, \"comment\": \"Good value for the price.\"}\n",
    "        ],\n",
    "        \"tags\": [\"office\", \"chair\", \"furniture\"]\n",
    "    }\n",
    "]\n"
   ]
  },
  {
   "cell_type": "code",
   "execution_count": 9,
   "id": "f8ce6b88-1b3c-4753-966d-753166acc933",
   "metadata": {},
   "outputs": [
    {
     "data": {
      "text/plain": [
       "InsertManyResult([ObjectId('66c43e579d36d8c7db2bf755'), ObjectId('66c43e579d36d8c7db2bf756'), ObjectId('66c43e579d36d8c7db2bf757')], acknowledged=True)"
      ]
     },
     "execution_count": 9,
     "metadata": {},
     "output_type": "execute_result"
    }
   ],
   "source": [
    "# Insert the data into the collection\n",
    "collection.insert_many(data)"
   ]
  },
  {
   "cell_type": "code",
   "execution_count": 11,
   "id": "fd77e291-052c-498e-aeee-1a1f7f4f1b49",
   "metadata": {},
   "outputs": [],
   "source": [
    "allDocs = collection.find()"
   ]
  },
  {
   "cell_type": "code",
   "execution_count": 18,
   "id": "547e9554-389d-431f-86b7-b45dc116a201",
   "metadata": {},
   "outputs": [],
   "source": [
    "def main():\n",
    "    client = pymongo.MongoClient(\"localhost:27017\")\n",
    "    db  = client['pymongo_db']\n",
    "    \n",
    "    collection = db['testColl']\n",
    "    collection.insert_many(data)\n",
    "\n",
    "    allDoc = collection.find()\n",
    "    \n",
    "    for item in allDoc:\n",
    "        print(item)\n",
    "        \n",
    "if __name__ ==\" __main__\":\n",
    "    main()"
   ]
  },
  {
   "cell_type": "code",
   "execution_count": null,
   "id": "605b7939-56b3-4197-94e3-cff5ba06afb2",
   "metadata": {},
   "outputs": [],
   "source": []
  },
  {
   "cell_type": "code",
   "execution_count": null,
   "id": "904a5aad-f536-4a23-afaf-e79279dce629",
   "metadata": {},
   "outputs": [],
   "source": []
  }
 ],
 "metadata": {
  "kernelspec": {
   "display_name": "Python 3 (ipykernel)",
   "language": "python",
   "name": "python3"
  },
  "language_info": {
   "codemirror_mode": {
    "name": "ipython",
    "version": 3
   },
   "file_extension": ".py",
   "mimetype": "text/x-python",
   "name": "python",
   "nbconvert_exporter": "python",
   "pygments_lexer": "ipython3",
   "version": "3.12.4"
  }
 },
 "nbformat": 4,
 "nbformat_minor": 5
}
